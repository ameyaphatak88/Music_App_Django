{
 "cells": [
  {
   "cell_type": "markdown",
   "metadata": {},
   "source": [
    "## Simulating the input data"
   ]
  },
  {
   "cell_type": "code",
   "execution_count": 1,
   "metadata": {},
   "outputs": [],
   "source": [
    "class Song:\n",
    "    def __init__(self, title, playlist):\n",
    "        self.title = title\n",
    "        self.playlist = playlist"
   ]
  },
  {
   "cell_type": "code",
   "execution_count": 2,
   "metadata": {},
   "outputs": [],
   "source": [
    "songs = []\n",
    "for i in range(5):\n",
    "    songs.append(Song(title= f\"title{i}\", playlist= f\"playlist{i%2}\"))"
   ]
  },
  {
   "cell_type": "code",
   "execution_count": 3,
   "metadata": {},
   "outputs": [
    {
     "name": "stdout",
     "output_type": "stream",
     "text": [
      "title0 playlist0\n",
      "title1 playlist1\n",
      "title2 playlist0\n",
      "title3 playlist1\n",
      "title4 playlist0\n"
     ]
    }
   ],
   "source": [
    "for song in songs:\n",
    "    print(song.title, song.playlist)"
   ]
  },
  {
   "cell_type": "markdown",
   "metadata": {},
   "source": [
    "## Ameya's code"
   ]
  },
  {
   "cell_type": "code",
   "execution_count": 26,
   "metadata": {},
   "outputs": [
    {
     "name": "stdout",
     "output_type": "stream",
     "text": [
      "{'playlist0': ['title0', 'title2', 'title4'], 'playlist1': ['title1', 'title3']}\n"
     ]
    }
   ],
   "source": [
    "def extract_playlists(songs):\n",
    "    playlists = []\n",
    "    for asong in songs:\n",
    "        if asong.playlist not in playlists:\n",
    "            playlists.append(asong.playlist)\n",
    "    playlist_dict = {}\n",
    "    for aplaylist in playlists:\n",
    "        playlist_dict[aplaylist] = []\n",
    "    for asong in songs:\n",
    "        if asong.playlist in playlist_dict:\n",
    "            playlist_dict[asong.playlist].append(asong.title)\n",
    "    print(playlist_dict)\n",
    "extract_playlists(songs)"
   ]
  },
  {
   "cell_type": "markdown",
   "metadata": {},
   "source": [
    "## Testing Ameya's code"
   ]
  },
  {
   "cell_type": "code",
   "execution_count": 27,
   "metadata": {},
   "outputs": [
    {
     "name": "stdout",
     "output_type": "stream",
     "text": [
      "{'playlist0': ['title0', 'title2', 'title4'], 'playlist1': ['title1', 'title3']}\n"
     ]
    }
   ],
   "source": [
    "playlists = extract_playlists(songs)\n",
    "playlists"
   ]
  },
  {
   "cell_type": "markdown",
   "metadata": {},
   "source": [
    "## Expected output"
   ]
  },
  {
   "cell_type": "code",
   "execution_count": 13,
   "metadata": {},
   "outputs": [],
   "source": [
    "expected_playlists = {\n",
    "    \"playlist0\": [\"title0\", \"title2\", \"title4\"],\n",
    "    \"playlist1\": [\"title1\", \"title3\"]\n",
    " }"
   ]
  },
  {
   "cell_type": "code",
   "execution_count": null,
   "metadata": {},
   "outputs": [],
   "source": []
  }
 ],
 "metadata": {
  "kernelspec": {
   "display_name": "Python 3",
   "language": "python",
   "name": "python3"
  },
  "language_info": {
   "codemirror_mode": {
    "name": "ipython",
    "version": 3
   },
   "file_extension": ".py",
   "mimetype": "text/x-python",
   "name": "python",
   "nbconvert_exporter": "python",
   "pygments_lexer": "ipython3",
   "version": "3.7.6"
  }
 },
 "nbformat": 4,
 "nbformat_minor": 2
}
